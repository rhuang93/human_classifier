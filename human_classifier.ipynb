{
 "cells": [
  {
   "cell_type": "code",
   "execution_count": null,
   "id": "8fcdc818",
   "metadata": {},
   "outputs": [],
   "source": [
    "import fastbook\n",
    "fastbook.setup_book()"
   ]
  },
  {
   "cell_type": "code",
   "execution_count": null,
   "id": "dacafddb",
   "metadata": {},
   "outputs": [],
   "source": [
    "from fastbook import *\n",
    "from fastai.vision.widgets import *"
   ]
  },
  {
   "cell_type": "code",
   "execution_count": null,
   "id": "907c59b8",
   "metadata": {},
   "outputs": [],
   "source": [
    "!jupyter serverextension enable --sys-prefix voila"
   ]
  },
  {
   "cell_type": "code",
   "execution_count": null,
   "id": "c7e0c8a6",
   "metadata": {},
   "outputs": [],
   "source": [
    "human_types = ['man','woman','boy','girl']"
   ]
  },
  {
   "cell_type": "code",
   "execution_count": null,
   "id": "c17c51cb",
   "metadata": {},
   "outputs": [],
   "source": [
    "path = Path('images\\\\humans')"
   ]
  },
  {
   "cell_type": "code",
   "execution_count": null,
   "id": "75ede200",
   "metadata": {},
   "outputs": [],
   "source": [
    "fns = get_image_files(path)\n",
    "#fns"
   ]
  },
  {
   "cell_type": "code",
   "execution_count": null,
   "id": "21f0e487",
   "metadata": {},
   "outputs": [],
   "source": [
    "failed = verify_images(fns)  #apparently any openable file will be included, including textfiles\n",
    "#failed"
   ]
  },
  {
   "cell_type": "code",
   "execution_count": null,
   "id": "b22a6eab",
   "metadata": {},
   "outputs": [],
   "source": [
    "if failed: failed.map(Path.unlink()) #only run if there is failed images"
   ]
  },
  {
   "cell_type": "code",
   "execution_count": null,
   "id": "608f3f06",
   "metadata": {},
   "outputs": [],
   "source": [
    "humans = DataBlock(\n",
    "    blocks =(ImageBlock, CategoryBlock),\n",
    "    get_items=get_image_files,\n",
    "    splitter=RandomSplitter(valid_pct=0.2, seed=34),\n",
    "    get_y=parent_label,\n",
    "    item_tfms=RandomResizedCrop(224,min_scale=0.5),\n",
    "    batch_tfms=aug_transforms()\n",
    ")"
   ]
  },
  {
   "cell_type": "code",
   "execution_count": null,
   "id": "0849afba",
   "metadata": {},
   "outputs": [],
   "source": [
    "dls = humans.dataloaders(path, bs=64)"
   ]
  },
  {
   "cell_type": "code",
   "execution_count": null,
   "id": "59f732b2",
   "metadata": {},
   "outputs": [],
   "source": [
    "dls.valid.show_batch(max_n=4, nrows = 1) # use in paperspace"
   ]
  },
  {
   "cell_type": "code",
   "execution_count": null,
   "id": "8e3c4c0e",
   "metadata": {},
   "outputs": [],
   "source": [
    "dls.train.show_batch(max_n=4, nrows = 1, unique = True) # use in paperspace "
   ]
  },
  {
   "cell_type": "code",
   "execution_count": null,
   "id": "ca63548b",
   "metadata": {},
   "outputs": [],
   "source": [
    "learn = cnn_learner(dls,resnet18,metrics=error_rate)\n",
    "learn.fine_tune(4)"
   ]
  },
  {
   "cell_type": "code",
   "execution_count": null,
   "id": "4632509b",
   "metadata": {},
   "outputs": [],
   "source": [
    "#use only in paperspace\n",
    "interp = ClassificationInterpretation.from_learner(learn)\n",
    "interp.plot_confusion_matrix()"
   ]
  },
  {
   "cell_type": "code",
   "execution_count": null,
   "id": "bc984bb3",
   "metadata": {},
   "outputs": [],
   "source": [
    "#use only in paperspace\n",
    "interp.plot_top_losses(5, nrows=1)"
   ]
  },
  {
   "cell_type": "code",
   "execution_count": null,
   "id": "a2658302",
   "metadata": {},
   "outputs": [],
   "source": [
    "cleaner = ImageClassifierCleaner(learn)\n",
    "cleaner"
   ]
  },
  {
   "cell_type": "code",
   "execution_count": null,
   "id": "7d1a1d69",
   "metadata": {},
   "outputs": [],
   "source": [
    "#hide\n",
    "for idx in cleaner.delete(): cleaner.fns[idx].unlink()\n",
    "for idx,cat in cleaner.change(): shutil.move(str(cleaner.fns[idx]), path/cat)"
   ]
  },
  {
   "cell_type": "code",
   "execution_count": null,
   "id": "68cded7c",
   "metadata": {},
   "outputs": [],
   "source": [
    "learn.predict(\"images/test_cases/humans/man_h.jpg\")"
   ]
  },
  {
   "cell_type": "code",
   "execution_count": null,
   "id": "a36cbb7a",
   "metadata": {},
   "outputs": [],
   "source": [
    "learn.dls.vocab"
   ]
  },
  {
   "cell_type": "code",
   "execution_count": null,
   "id": "08a93e5c",
   "metadata": {},
   "outputs": [],
   "source": [
    "btn_upload = widgets.FileUpload()\n",
    "out_pl = widgets.Output()\n",
    "out_pl.clear_output()\n",
    "lbl_pred = widgets.Label()\n",
    "btn_run = widgets.Button(description='Classify')"
   ]
  },
  {
   "cell_type": "code",
   "execution_count": null,
   "id": "1288ffe8",
   "metadata": {},
   "outputs": [],
   "source": [
    "def on_click_classify(change):\n",
    "    img = PILImage.create(btn_upload.data[-1])\n",
    "    out_pl.clear_output()\n",
    "    with out_pl: display(img.to_thumb(128,128))\n",
    "    pred,pred_idx,probs = learn.predict(img)\n",
    "    lbl_pred.value = f'Prediction: {pred}; Probability: {probs[pred_idx]: .04f}'"
   ]
  },
  {
   "cell_type": "code",
   "execution_count": null,
   "id": "30040b10",
   "metadata": {},
   "outputs": [],
   "source": [
    "btn_run.on_click(on_click_classify)"
   ]
  },
  {
   "cell_type": "code",
   "execution_count": null,
   "id": "e1ff0ab7",
   "metadata": {},
   "outputs": [],
   "source": [
    "VBox([widgets.Label('Select your human'),btn_upload, btn_run, out_pl, lbl_pred])"
   ]
  },
  {
   "cell_type": "code",
   "execution_count": null,
   "id": "1e4ac9bf",
   "metadata": {},
   "outputs": [],
   "source": []
  }
 ],
 "metadata": {
  "kernelspec": {
   "display_name": "Python 3",
   "language": "python",
   "name": "python3"
  },
  "language_info": {
   "codemirror_mode": {
    "name": "ipython",
    "version": 3
   },
   "file_extension": ".py",
   "mimetype": "text/x-python",
   "name": "python",
   "nbconvert_exporter": "python",
   "pygments_lexer": "ipython3",
   "version": "3.8.10"
  }
 },
 "nbformat": 4,
 "nbformat_minor": 5
}
